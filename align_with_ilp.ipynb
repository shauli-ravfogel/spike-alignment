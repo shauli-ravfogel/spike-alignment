{
 "cells": [
  {
   "cell_type": "code",
   "execution_count": 136,
   "metadata": {},
   "outputs": [
    {
     "name": "stdout",
     "output_type": "stream",
     "text": [
      "The autoreload extension is already loaded. To reload it, use:\n",
      "  %reload_ext autoreload\n"
     ]
    }
   ],
   "source": [
    "%load_ext autoreload\n",
    "%autoreload 2\n",
    "import bert\n",
    "import numpy as np\n",
    "from sklearn.metrics.pairwise import cosine_similarity\n",
    "import matplotlib.pyplot as plt\n",
    "import spike_queries\n",
    "from termcolor import colored\n",
    "import random\n",
    "from collections import Counter, defaultdict"
   ]
  },
  {
   "cell_type": "code",
   "execution_count": 339,
   "metadata": {},
   "outputs": [],
   "source": [
    "def load_results(fname):\n",
    "    \n",
    "    with open(fname, \"r\", encoding = \"utf-8\") as f:\n",
    "        sents = f.readlines()\n",
    "    \n",
    "    sents = [s.strip().split(\"\\t\")[-1] for s in sents]\n",
    "    original, results = sents[0], sents[1:]\n",
    "    return original, results\n",
    "\n",
    "\n",
    "def get_spike_results_arguments_representations(model, spike_results, layers):\n",
    "    \n",
    "    sents = spike_results[\"sentence_text\"].tolist()\n",
    "    arg1_idx_start = spike_results[\"arg1_first_index\"].to_numpy().astype(int)\n",
    "    arg2_idx_start = spike_results[\"arg2_first_index\"].to_numpy().astype(int)\n",
    "    arg1_idx_end = spike_results[\"arg1_last_index\"].to_numpy().astype(int)\n",
    "    arg2_idx_end = spike_results[\"arg2_last_index\"].to_numpy().astype(int)\n",
    "    \n",
    "    arg1_rep = []\n",
    "    arg2_rep = []\n",
    "    \n",
    "    for s, arg1_start, arg2_start, arg1_end, arg2_end in zip(sents, arg1_idx_start, arg2_idx_start, arg1_idx_end, arg2_idx_end):\n",
    "        #idx_to_mask = [arg1_start, arg2_start, arg1_end, arg2_end]\n",
    "        H, _, _, orig2tok = model.encode(s, layers = layers)\n",
    "\n",
    "        h1, h2 = H[orig2tok[arg1_start]:orig2tok[arg1_end] + 1], H[orig2tok[arg2_start]:orig2tok[arg2_end] + 1]\n",
    "        \n",
    "        h1 = np.mean(h1, axis = 0)\n",
    "        h2 = np.mean(h2, axis = 0)\n",
    "        \n",
    "        arg1_rep.append(h1)\n",
    "        arg2_rep.append(h2)\n",
    "        \n",
    "    arg1_mean = np.mean(arg1_rep, axis = 0)\n",
    "    arg2_mean = np.mean(arg2_rep, axis = 0)\n",
    "        \n",
    "    return arg1_mean, arg2_mean\n",
    "    \n",
    "\n",
    "def print_sentence_nicely(sentence: str, ind1, ind2):\n",
    "    \n",
    "    arg1_sign = \"**\"\n",
    "    arg2_sign = \"++\"\n",
    "    arg1_color, arg2_color = \"red\", \"blue\"\n",
    "    \n",
    "    if not ind2 > ind1: \n",
    "        ind1, ind2 = ind2, ind1\n",
    "        arg1_sign, arg2_sign = arg2_sign, arg1_sign\n",
    "        arg1_color, arg2_color = arg2_color, arg1_color\n",
    "        \n",
    "    splitted = sentence.split(\" \")\n",
    "    before_arg1 = \" \".join(splitted[:ind1])\n",
    "    arg1 = splitted[ind1]\n",
    "    arg2 = splitted[ind2]\n",
    "    between = \" \".join(splitted[ind1 + 1: ind2])\n",
    "    suffix = \" \".join(splitted[ind2+1:])\n",
    "    \n",
    "    return before_arg1 +  \" \" + arg1_sign + colored(arg1, arg1_color) + arg1_sign + \" \" + between + \" \" + arg2_sign + colored(arg2, arg2_color) + arg2_sign + \" \" + suffix\n",
    "\n",
    "\n",
    "\n",
    "def main(filename, layers = [-1], num_results_to_print = 50):\n",
    "    \n",
    "    \n",
    "    query, results1 = load_results(filename)\n",
    "    spike_results = spike_queries.perform_query(query, dataset_name = \"covid19\", num_results = 100, query_type = \"syntactic\")\n",
    "    spike_results = spike_results[spike_results['sentence_text'].notnull()]\n",
    "    arg1_rep, arg2_rep = get_spike_results_arguments_representations(model, spike_results, layers)\n",
    "    \n",
    "    #print(color.BOLD + \"QUERY\" + color.END + \":\\n{}\".format(query))\n",
    "    \n",
    "    first, first_ind1, first_ind2 = spike_results[\"sentence_text\"].tolist()[-1], int(spike_results[\"arg1_first_index\"].tolist()[-1]), int(spike_results[\"arg2_first_index\"].tolist()[-1])\n",
    "    #print(color.BOLD + \"\\nFIRST SPIKE RESULT\" + color.END + \":\\n{}\".format(print_sentence_nicely(first, first_ind1, first_ind2)))\n",
    "    #print(color.BOLD + \"\\nAUGMENTATION RESULTS:\\n\" + color.END)\n",
    "    \n",
    "    representations = []\n",
    "    mappings_to_orig = []\n",
    "    mappings_to_tok = []\n",
    "    tokenized_txts = []\n",
    "    orig_sents = []\n",
    "    \n",
    "    for i,s in enumerate(results1):\n",
    "        H, tokenized_text, tok_to_orig_map, orig2tok = model.encode(s, layers = layers)\n",
    "        orig_sents.append(s)\n",
    "        representations.append(H)\n",
    "        mappings_to_orig.append(tok_to_orig_map)\n",
    "        mappings_to_tok.append(orig2tok) \n",
    "        tokenized_txts.append(tokenized_text)\n",
    "        \n",
    "        if i > num_results_to_print: break\n",
    "    \n",
    "    return query, (arg1_rep, arg2_rep), (representations, mappings_to_orig, mappings_to_tok, tokenized_txts, orig_sents)"
   ]
  },
  {
   "cell_type": "code",
   "execution_count": 3,
   "metadata": {},
   "outputs": [
    {
     "name": "stderr",
     "output_type": "stream",
     "text": [
      "loading configuration file https://s3.amazonaws.com/models.huggingface.co/bert/allenai/scibert_scivocab_uncased/config.json from cache at /home/shauli/.cache/torch/transformers/199e28e62d2210c23d63625bd9eecc20cf72a156b29e2a540d4933af4f50bda1.4b6b9f5d813f7395e7ea533039e02deb1723d8fd9d8ba655391a01a69ad6223d\n",
      "Model config BertConfig {\n",
      "  \"attention_probs_dropout_prob\": 0.1,\n",
      "  \"hidden_act\": \"gelu\",\n",
      "  \"hidden_dropout_prob\": 0.1,\n",
      "  \"hidden_size\": 768,\n",
      "  \"initializer_range\": 0.02,\n",
      "  \"intermediate_size\": 3072,\n",
      "  \"layer_norm_eps\": 1e-12,\n",
      "  \"max_position_embeddings\": 512,\n",
      "  \"model_type\": \"bert\",\n",
      "  \"num_attention_heads\": 12,\n",
      "  \"num_hidden_layers\": 12,\n",
      "  \"output_hidden_states\": true,\n",
      "  \"pad_token_id\": 0,\n",
      "  \"type_vocab_size\": 2,\n",
      "  \"vocab_size\": 31090\n",
      "}\n",
      "\n",
      "loading configuration file https://s3.amazonaws.com/models.huggingface.co/bert/allenai/scibert_scivocab_uncased/config.json from cache at /home/shauli/.cache/torch/transformers/199e28e62d2210c23d63625bd9eecc20cf72a156b29e2a540d4933af4f50bda1.4b6b9f5d813f7395e7ea533039e02deb1723d8fd9d8ba655391a01a69ad6223d\n",
      "Model config BertConfig {\n",
      "  \"attention_probs_dropout_prob\": 0.1,\n",
      "  \"hidden_act\": \"gelu\",\n",
      "  \"hidden_dropout_prob\": 0.1,\n",
      "  \"hidden_size\": 768,\n",
      "  \"initializer_range\": 0.02,\n",
      "  \"intermediate_size\": 3072,\n",
      "  \"layer_norm_eps\": 1e-12,\n",
      "  \"max_position_embeddings\": 512,\n",
      "  \"model_type\": \"bert\",\n",
      "  \"num_attention_heads\": 12,\n",
      "  \"num_hidden_layers\": 12,\n",
      "  \"pad_token_id\": 0,\n",
      "  \"type_vocab_size\": 2,\n",
      "  \"vocab_size\": 31090\n",
      "}\n",
      "\n",
      "Model name 'allenai/scibert_scivocab_uncased' not found in model shortcut name list (bert-base-uncased, bert-large-uncased, bert-base-cased, bert-large-cased, bert-base-multilingual-uncased, bert-base-multilingual-cased, bert-base-chinese, bert-base-german-cased, bert-large-uncased-whole-word-masking, bert-large-cased-whole-word-masking, bert-large-uncased-whole-word-masking-finetuned-squad, bert-large-cased-whole-word-masking-finetuned-squad, bert-base-cased-finetuned-mrpc, bert-base-german-dbmdz-cased, bert-base-german-dbmdz-uncased, bert-base-finnish-cased-v1, bert-base-finnish-uncased-v1, bert-base-dutch-cased). Assuming 'allenai/scibert_scivocab_uncased' is a path, a model identifier, or url to a directory containing tokenizer files.\n",
      "loading file https://s3.amazonaws.com/models.huggingface.co/bert/allenai/scibert_scivocab_uncased/vocab.txt from cache at /home/shauli/.cache/torch/transformers/e3debd8fbdf40874753724814ee0520f612b577b26c8755bca485103b47cd3bc.60287becc5ab96d85a4bf377eb90feaf3b9c80d3b23e84311dccd3588f56d4fb\n",
      "loading file https://s3.amazonaws.com/models.huggingface.co/bert/allenai/scibert_scivocab_uncased/added_tokens.json from cache at None\n",
      "loading file https://s3.amazonaws.com/models.huggingface.co/bert/allenai/scibert_scivocab_uncased/special_tokens_map.json from cache at None\n",
      "loading file https://s3.amazonaws.com/models.huggingface.co/bert/allenai/scibert_scivocab_uncased/tokenizer_config.json from cache at None\n",
      "loading weights file https://cdn.huggingface.co/allenai/scibert_scivocab_uncased/pytorch_model.bin from cache at /home/shauli/.cache/torch/transformers/54e18c298451d3195ba8359e7a3fa2bc04c70c730c5b6744928278e67940eacb.7587182ea55c40bf7fd0961c1176c31fa22558da2bf20c199874fa5a8ecb4613\n"
     ]
    }
   ],
   "source": [
    "model = bert.BertEncoder(\"cuda\", \"scibert\")"
   ]
  },
  {
   "cell_type": "code",
   "execution_count": 322,
   "metadata": {},
   "outputs": [],
   "source": [
    "def get_between_tokens_similarity(padded_representations):\n",
    "    \n",
    "    num_sents, seq_len, bert_dim = padded_representations.shape\n",
    "    padded_representations = padded_representations.reshape((num_sents*seq_len, bert_dim))\n",
    "    sims = cosine_similarity(padded_representations, padded_representations)\n",
    "    sims = sims.reshape((num_sents, seq_len, num_sents, seq_len))\n",
    "    \n",
    "    return sims\n",
    "\n",
    "def get_between_token_similarity_prev_sentence(padded_representations):\n",
    "    \n",
    "    num_sents, seq_len, bert_dim = padded_representations.shape\n",
    "    padded_representations = padded_representations.reshape((num_sents*seq_len, bert_dim))    \n",
    "    padded_representations /= np.linalg.norm(padded_representations, keepdims = True, axis=1)\n",
    "    padded_representations = padded_representations.reshape((num_sents, seq_len, bert_dim))\n",
    "    tuples = list(zip(padded_representations, padded_representations[1:]))\n",
    "    sims = np.array([tup[0].dot(tup[1].T) for tup in tuples])\n",
    "    sims = sims.reshape(((num_sents-1)*seq_len, seq_len))\n",
    "    return sims\n",
    "\n",
    "def get_similarity_to_arguments(padded_representations, arg1, arg2):\n",
    "    num_sents, seq_len, bert_dim = padded_representations.shape\n",
    "    padded_representations = padded_representations.reshape((num_sents*seq_len, bert_dim))\n",
    "    print(padded_representations.shape)\n",
    "    sims = cosine_similarity([arg1_rep, arg2_rep], padded_representations)\n",
    "    sims = sims.reshape((2, num_sents, seq_len))\n",
    "    return sims"
   ]
  },
  {
   "cell_type": "code",
   "execution_count": 323,
   "metadata": {},
   "outputs": [
    {
     "data": {
      "text/plain": [
       "70304"
      ]
     },
     "execution_count": 323,
     "metadata": {},
     "output_type": "execute_result"
    }
   ],
   "source": [
    "26*52*52"
   ]
  },
  {
   "cell_type": "code",
   "execution_count": 357,
   "metadata": {},
   "outputs": [],
   "source": [
    "fname = \"results6.txt\"\n",
    "\n",
    "query, (arg1_rep, arg2_rep), (representations, mappings_to_orig, mappings_to_tok, tokenized_txts, orig_sents)  = main(fname, layers = [-1])\n",
    "for i in range(len(representations)): # zero cls, ., sep\n",
    "    representations[i][0][:] = np.random.rand()\n",
    "    representations[i][-1][:] = np.random.rand()\n",
    "    representations[i][-2][:] = np.random.rand()\n",
    "    \n",
    "    \n",
    "_, (arg1_rep0, arg2_rep0), (representations0, _, _, _, _)  = main(fname, layers = [3])\n",
    "for i in range(len(representations0)): # zero cls, ., sep\n",
    "    representations0[i][0][:] = np.random.rand()\n",
    "    representations0[i][-1][:] = np.random.rand()\n",
    "    representations0[i][-2][:] = np.random.rand()"
   ]
  },
  {
   "cell_type": "code",
   "execution_count": 358,
   "metadata": {},
   "outputs": [
    {
     "data": {
      "text/plain": [
       "'arg1:[e]stroke is a $complication of :[e]COVID-19 arg2:infection'"
      ]
     },
     "execution_count": 358,
     "metadata": {},
     "output_type": "execute_result"
    }
   ],
   "source": [
    "query"
   ]
  },
  {
   "cell_type": "code",
   "execution_count": 359,
   "metadata": {},
   "outputs": [
    {
     "name": "stdout",
     "output_type": "stream",
     "text": [
      "(2236, 768)\n"
     ]
    },
    {
     "data": {
      "text/plain": [
       "'\\nfor i in range(num_sents):\\n        sims_args[0][i][0] = 0.0\\n        sims_args[1][i][0] = 0.0\\n        sims_args[0][i][-1] = 0.0\\n        sims_args[1][i][-1] = 0.0\\n        sims_args[0][i][-2] = 0.0\\n        sims_args[1][i][-2] = 0.0\\n'"
      ]
     },
     "execution_count": 359,
     "metadata": {},
     "output_type": "execute_result"
    }
   ],
   "source": [
    "pad_width = max([len(s) for s in representations])\n",
    "padded_representations = np.array([np.concatenate([r, np.ones((pad_width-len(r), 768))]) for r in representations])\n",
    "padded_representations0 = np.array([np.concatenate([r, np.ones((pad_width-len(r), 768))]) for r in representations0])\n",
    "\n",
    "num_sents, seq_len, bert_dim = padded_representations.shape\n",
    "num_tokens = num_sents * seq_len\n",
    "sims_token = get_between_tokens_similarity(padded_representations)\n",
    "sims_args = get_similarity_to_arguments(padded_representations, arg1_rep, arg2_rep)\n",
    "sims_token0 = get_between_tokens_similarity(padded_representations0)\n",
    "#sims_token = get_between_token_similarity_prev_sentence(padded_representations)\n",
    "\n",
    "\"\"\"\n",
    "for i in range(num_sents):\n",
    "        sims_args[0][i][0] = 0.0\n",
    "        sims_args[1][i][0] = 0.0\n",
    "        sims_args[0][i][-1] = 0.0\n",
    "        sims_args[1][i][-1] = 0.0\n",
    "        sims_args[0][i][-2] = 0.0\n",
    "        sims_args[1][i][-2] = 0.0\n",
    "\"\"\"         "
   ]
  },
  {
   "cell_type": "code",
   "execution_count": 64,
   "metadata": {},
   "outputs": [
    {
     "data": {
      "text/plain": [
       "((27, 52, 27, 52), (2, 27, 52))"
      ]
     },
     "execution_count": 64,
     "metadata": {},
     "output_type": "execute_result"
    }
   ],
   "source": [
    "sims_token.shape, sims_args.shape"
   ]
  },
  {
   "cell_type": "code",
   "execution_count": 65,
   "metadata": {},
   "outputs": [
    {
     "data": {
      "text/plain": [
       "(27, 52, 27, 52)"
      ]
     },
     "execution_count": 65,
     "metadata": {},
     "output_type": "execute_result"
    }
   ],
   "source": [
    "sims_token.shape"
   ]
  },
  {
   "cell_type": "code",
   "execution_count": 11,
   "metadata": {},
   "outputs": [],
   "source": [
    "from collections import defaultdict"
   ]
  },
  {
   "cell_type": "code",
   "execution_count": 12,
   "metadata": {},
   "outputs": [],
   "source": [
    "import cvxpy as cp\n",
    "import numpy as np\n",
    "from collections import defaultdict\n",
    "import tqdm\n",
    "\n",
    "num_variables = sims_args.shape[1]\n",
    "#x = [[cp.Variable(1, boolean=True) for j in range(seq_len)] for i in range(num_sents)]\n",
    "X = cp.Variable((num_sents, seq_len), boolean = True)\n",
    "\n",
    "\n",
    "Q = cp.Variable(sims_token.shape)\n",
    "similarity_to_arguments_component = cp.sum( cp.multiply(X, sims_args[1]))/(X.shape[0]*X.shape[1])\n",
    "similarity_between_tokens_component = cp.sum(cp.multiply(Q, sims_token))/(sims_token.shape[0]*sims_token.shape[1])"
   ]
  },
  {
   "cell_type": "code",
   "execution_count": 13,
   "metadata": {},
   "outputs": [
    {
     "data": {
      "text/plain": [
       "(None, None)"
      ]
     },
     "execution_count": 13,
     "metadata": {},
     "output_type": "execute_result"
    }
   ],
   "source": [
    "similarity_to_arguments_component.value, similarity_between_tokens_component.value"
   ]
  },
  {
   "cell_type": "code",
   "execution_count": 14,
   "metadata": {},
   "outputs": [
    {
     "data": {
      "text/plain": [
       "((1352, 52), (1352, 52))"
      ]
     },
     "execution_count": 14,
     "metadata": {},
     "output_type": "execute_result"
    }
   ],
   "source": [
    "Q.shape, sims_token.shape"
   ]
  },
  {
   "cell_type": "code",
   "execution_count": 15,
   "metadata": {},
   "outputs": [
    {
     "name": "stderr",
     "output_type": "stream",
     "text": [
      "/home/shauli/miniconda3/envs/py3/lib/python3.7/site-packages/ipykernel_launcher.py:9: TqdmDeprecationWarning: This function will be removed in tqdm==5.0.0\n",
      "Please use `tqdm.notebook.tqdm` instead of `tqdm.tqdm_notebook`\n",
      "  if __name__ == '__main__':\n"
     ]
    },
    {
     "data": {
      "application/vnd.jupyter.widget-view+json": {
       "model_id": "d352ffeaa47346908d99d1df3b8ca163",
       "version_major": 2,
       "version_minor": 0
      },
      "text/plain": [
       "HBox(children=(FloatProgress(value=0.0, max=1352.0), HTML(value='')))"
      ]
     },
     "metadata": {},
     "output_type": "display_data"
    },
    {
     "name": "stdout",
     "output_type": "stream",
     "text": [
      "\n"
     ]
    }
   ],
   "source": [
    "objective = cp.Maximize(similarity_to_arguments_component + 0.001*similarity_between_tokens_component)\n",
    "#objective = cp.Maximize(cp.sum(X * sims_args[0]))\n",
    "constraints = []\n",
    "\n",
    "for i in range(num_sents):\n",
    "    constraints.append(cp.sum(X[i]) <= 1)\n",
    "    constraints.append(cp.sum(X[i]) >= 1)\n",
    "\n",
    "for i in tqdm.tqdm_notebook(range(sims_token.shape[0])):\n",
    "    y = i % seq_len # row ind\n",
    "    x = i // seq_len  # col ind\n",
    "    \n",
    "    for j in range(seq_len):\n",
    "       constraints.append(cp.sum([-X[x][y]-X[x][x+1]+Q[i][j]]) >= -1)\n",
    "       constraints.append(cp.sum([X[x][y]-Q[i][j]]) >= 0)\n",
    "       constraints.append(cp.sum([X[x][x+1]-Q[i][j]]) >= 0)\n",
    "    \n",
    "#constraints.append(cp.sum_squares(Q) <= 1e-6)\n",
    "\"\"\"\n",
    "for i in tqdm.tqdm_notebook(range(sims_token.shape[0])):\n",
    "    y = i % seq_len # row ind\n",
    "    x = i // seq_len  # col ind\n",
    "    \n",
    "    for j in range(sims_token.shape[0]):\n",
    "        w = j % seq_len # second row ind\n",
    "        z = j // seq_len  # second col ind\n",
    "        #constraints.append(cp.sum([-X[x][y]-X[z][w]+Q[i][j]]) >= -1)\n",
    "        #constraints.append(cp.sum([X[x][y]-Q[i][j]]) >= 0)\n",
    "        #constraints.append(cp.sum([X[z][w]-Q[i][j]]) >= 0)\n",
    "\"\"\"\n",
    "prob = cp.Problem(objective, constraints)"
   ]
  },
  {
   "cell_type": "code",
   "execution_count": 16,
   "metadata": {},
   "outputs": [
    {
     "name": "stdout",
     "output_type": "stream",
     "text": [
      "2341.159997701645\n",
      "0.015026756072061104 0.01532884604809937 -0.3020899760382654\n"
     ]
    }
   ],
   "source": [
    "import time\n",
    "start = time.time()\n",
    "result = prob.solve(verbose=True)\n",
    "print(time.time() - start)\n",
    "print(objective.value, similarity_to_arguments_component.value, similarity_between_tokens_component.value)"
   ]
  },
  {
   "cell_type": "code",
   "execution_count": 25,
   "metadata": {},
   "outputs": [
    {
     "data": {
      "text/plain": [
       "39.016666666666666"
      ]
     },
     "execution_count": 25,
     "metadata": {},
     "output_type": "execute_result"
    }
   ],
   "source": [
    "2341/60"
   ]
  },
  {
   "cell_type": "code",
   "execution_count": 17,
   "metadata": {},
   "outputs": [
    {
     "name": "stdout",
     "output_type": "stream",
     "text": [
      "QUERY: infected arg1:patients $usually $develop <>arg2:[entity]respiratory illness.\n",
      "===========================================================\n",
      "===========================================================\n",
      "After an incubation period of 5 to 14 days , SARS-CoV-2-infected people commonly manifest features of pneumonia , including fever , dry cough , dyspnoea , myalgia and fatigue .\n",
      "ARG1: pneumonia\n",
      "---------------------------------------------\n",
      "After an incubation period of 2 to 3 days , patients who have pneumonic plague typically develop fulminant pneumonia , with malaise , high fever , cough , hemoptysis , and septicemia with ecchymoses and extremity necrosis .\n",
      "ARG1: pneumonia\n",
      "---------------------------------------------\n",
      "Patients suffering from severe DENV infection often exhibit encephalopathy and encephalitis .\n",
      "ARG1: encephalitis\n",
      "---------------------------------------------\n",
      "Following an incubation period of usually 4 - 5 days , patients infected with SARS-CoV often present with symptoms of fever , headache , and myalgias .\n",
      "ARG1: patients\n",
      "---------------------------------------------\n",
      "Cats with FIP show nonspecific clinical signs such as fever , weight loss and anorexia , often accompanied by body cavity effusions and/or ocular and neurological signs .\n",
      "ARG1: clinical\n",
      "---------------------------------------------\n",
      "Cats with signs from FIV often have lethargy , anorexia and weight loss associated with secondary infections of the skin , and gastrointestinal or respiratory tracts .\n",
      "ARG1: FIV\n",
      "---------------------------------------------\n",
      "Enteric FCoV infection typically results in inappetence and/or mild gastrointestinal signs such as vomiting and diarrhea .\n",
      "ARG1: infection\n",
      "---------------------------------------------\n",
      "Most patients with MERS develop severe acute respiratory illness accompanied by fever , cough , and shortness of breath [ 50 ] .\n",
      "ARG1: respiratory\n",
      "---------------------------------------------\n",
      "The terminal stages of Ebola virus infection usually include diffuse bleeding , and hypotensive shock accounts for many Ebola virus fatalities .\n",
      "ARG1: infection\n",
      "---------------------------------------------\n",
      "In rats , infection is usually asymptomatic , although nonspecific clinical signs such as weight loss and dyspnea may occur .\n",
      "ARG1: clinical\n",
      "---------------------------------------------\n",
      "Following an average incubation period of 20 days , infected patients can present with severe headache , fever , chills , fatigue , and myalgia .\n",
      "ARG1: patients\n",
      "---------------------------------------------\n",
      "Patients infected with EVD rapidly deteriorate and commonly present with gastrointestinal symptoms including vomiting , diarrhea and dehydration .\n",
      "ARG1: Patients\n",
      "---------------------------------------------\n",
      "Adult rabbits usually develop a chronic disease course , which can lead to intestinal fi brosis , liver necrosis and stenosis , and myocardial disease .\n",
      "ARG1: disease\n",
      "---------------------------------------------\n",
      "Cats are primarily infected subclinically , but gastrointestinal disease manifested as enterocolitis and endotoxemia can occur and is initially associated with fever , malaise , and anorexia followed by vomiting , abdominal pain , and diarrhoea [ 7 ] .\n",
      "ARG1: disease\n",
      "---------------------------------------------\n",
      "Affected rabbits usually develop sepsis , which quickly leads to death ; however , diarrhea may occur as well .\n",
      "ARG1: sepsis\n",
      "---------------------------------------------\n",
      "Affected rabbits usually develop sepsis , which quickly leads to death ; however , diarrhea may occur as well .\n",
      "ARG1: sepsis\n",
      "---------------------------------------------\n",
      "Affected rabbits usually develop sepsis , which quickly leads to death ; however , diarrhea may occur as well .\n",
      "ARG1: sepsis\n",
      "---------------------------------------------\n",
      "Common marmosets with measles infection become clinically apparent with lethargy , facial edema , and nasal discharge and occasionally develop an exanthema .\n",
      "ARG1: infection\n",
      "---------------------------------------------\n",
      "In humans , VEEV infection causes a sudden onset of malaise , fever , chills , headache , and sore throat .\n",
      "ARG1: sudden\n",
      "---------------------------------------------\n",
      "Humans infected with RVFV usually develop an acute febrile myalgic syndrome ; however , a small percentage of patients have a lethal illness that results in hepatic damage , hemorrhagic fever-like illness , encephalitis and/or retinal vasculitis [ 8 ] .\n",
      "ARG1: syndrome\n",
      "---------------------------------------------\n",
      "In humans , infection is associated with fever and liver damage , but a subset of patients progress to hemorrhagic fever , encephalitis , ocular disease or death .\n",
      "ARG1: infection\n",
      "---------------------------------------------\n",
      "After an incubation period of 9 - 12 days , MERS generally presents in humans as a lower respiratory infection with fever ( often with chills or rigors ) , dry or productive cough and dyspnea .\n",
      "ARG1: infection\n",
      "---------------------------------------------\n",
      "Patients with bubonic plague usually develop symptoms of fever , headache , chills , and swollen , extremely tender lymph nodes ( buboes ) within 2 to 6 days after contact with the pathogen .\n",
      "ARG1: symptoms\n",
      "---------------------------------------------\n",
      "Symptomatic CHIKV infection often manifests itself by short-lived fever and recurrent joint pain , which can last for months to years ( 10 ) .\n",
      "ARG1: infection\n",
      "---------------------------------------------\n",
      "Pneumonia caused by SARS-CoV typically has an insidious onset , and respiratory symptoms worsen slowly but steadily during the first 10 to 15 days [ 10•• ] .\n",
      "ARG1: Pneumonia\n",
      "---------------------------------------------\n",
      "Those infected with SARS suffer fever , cough , muscle aches , and shortness of breath and often progress to severe lung inflammation .\n",
      "ARG1: lung\n",
      "---------------------------------------------\n",
      "RVFV infection in humans usually causes a self-limiting , acute and febrile illness ; however , a small number of cases progress to neurological disorders , partial or complete blindness , hemorrhagic fever , or thrombosis .\n",
      "ARG1: illness\n",
      "---------------------------------------------\n"
     ]
    }
   ],
   "source": [
    "print(\"QUERY:\", query)\n",
    "print(\"===========================================================\")\n",
    "print(\"===========================================================\")\n",
    "\n",
    "for x,orig_sent,tok2orig in zip(X,orig_sents,mappings_to_orig):\n",
    "    j = np.argmax(x.value)\n",
    "    if j in tok2orig:\n",
    "        print(orig_sent)\n",
    "        print(\"ARG1: {}\".format(orig_sent.split(\" \")[tok2orig[j]]))\n",
    "    else:\n",
    "        print(\"none\")\n",
    "    \n",
    "    print(\"---------------------------------------------\")"
   ]
  },
  {
   "cell_type": "markdown",
   "metadata": {},
   "source": [
    "# Viterbi"
   ]
  },
  {
   "cell_type": "code",
   "execution_count": 353,
   "metadata": {},
   "outputs": [],
   "source": [
    "from viterbi_trellis import ViterbiTrellis"
   ]
  },
  {
   "cell_type": "code",
   "execution_count": 354,
   "metadata": {},
   "outputs": [],
   "source": [
    "from viterbi_trellis import ViterbiTrellis\n",
    "grid = [[(i,j) for j in range(seq_len)] for i in range(num_sents)]\n",
    "ARG_IND = 0\n",
    "\n",
    "def state_score_func(sent_ind_tok_ind: tuple, alpha: float = 2,alpha2=1, arg_ind: int = ARG_IND):\n",
    "    \n",
    "    sent_ind, tok_ind = sent_ind_tok_ind\n",
    "    return -alpha*sims_args[arg_ind][sent_ind][tok_ind] + alpha2*sims_args[1 if arg_ind==0 else 0][sent_ind][tok_ind]\n",
    "\n",
    "def transition_score_func(sent_ind_tok_ind_source, sent_ind_tok_ind_dest):\n",
    "    \n",
    "    sent_ind_source, tok_ind_source = sent_ind_tok_ind_source\n",
    "    sent_ind_dest, tok_ind_dest = sent_ind_tok_ind_dest\n",
    "        \n",
    "    return -sims_token[sent_ind_source,tok_ind_source,sent_ind_dest,tok_ind_dest]\n",
    "\n",
    "def run_multiple_random_hmms(num_sents, n = 10):\n",
    "    \n",
    "    sent2captures = defaultdict(list)\n",
    "    \n",
    "    for i in range(n):\n",
    "        \n",
    "        ordering = list(range(num_sents))\n",
    "        random.shuffle(ordering)\n",
    "        grid_ordered = [x for _,x in sorted(zip(ordering,grid))]\n",
    "        #print(grid_ordered[0][:6])\n",
    "\n",
    "        new2orig = {i:grid_ordered[i][0][0] for i in range(len(grid_ordered))}\n",
    "        \n",
    "        v = ViterbiTrellis(grid_ordered, state_score_func, transition_score_func)\n",
    "        best_path = v.viterbi_best_path()\n",
    "        for j, token_ind in enumerate(best_path):\n",
    "            \n",
    "            sent_ind = new2orig[j]\n",
    "            sent2captures[sent_ind].append(token_ind)\n",
    "    \n",
    "    return sent2captures\n",
    "\n",
    "    for sentind in sent2captures.keys():\n",
    "        counter = Counter(sent2captures[sentind])\n",
    "        print(counter.most_common(2))\n",
    "    \n",
    "v = ViterbiTrellis(grid, state_score_func, transition_score_func)\n",
    "best_path = v.viterbi_best_path()\n",
    "\n",
    "v = ViterbiTrellis(grid, state_score_func, lambda x,y: 0)\n",
    "best_path_naive = v.viterbi_best_path()"
   ]
  },
  {
   "cell_type": "code",
   "execution_count": 355,
   "metadata": {},
   "outputs": [],
   "source": [
    "sent2captures = run_multiple_random_hmms(num_sents,n=100)"
   ]
  },
  {
   "cell_type": "markdown",
   "metadata": {},
   "source": [
    "## Eval"
   ]
  },
  {
   "cell_type": "code",
   "execution_count": 356,
   "metadata": {
    "scrolled": true
   },
   "outputs": [
    {
     "name": "stdout",
     "output_type": "stream",
     "text": [
      "QUERY: arg1:[e]paracetamol is $not useful for treating arg2:[e]asthma.\n",
      "===========================================================\n",
      "===========================================================\n",
      "However , while tocilizumab is a promising agent against COVID-19 , it is not an appropriate agent in patients with active or latent tuberculosis , bacterial and fungal infections , multi-organ failure , and gastrointestinal perforation [ 7 ] .\n",
      "ARG1, option 0: agent\n",
      "ARG1, option 1: tocilizumab\n",
      "ARG1, option 2: it\n",
      "ARG1, option 3: [\n",
      "ARG1, naive: tocilizumab\n",
      "---------------------------------------------\n",
      "There are cases of ADEM or even fulminant presentation such as AHL where steroids alone are not sufficient for suppressing inflammation and improving clinical findings .\n",
      "ARG1, option 0: steroids\n",
      "ARG1, naive: steroids\n",
      "---------------------------------------------\n",
      "Thus , ribavirin may not be useful for treating SARS infections because of its questionable efficacy and because of its known toxicity ( reviewed by van Vonderen et al. , 2003 ; Lai , 2005 ) .\n",
      "ARG1, option 0: ribavirin\n",
      "ARG1, naive: ribavirin\n",
      "---------------------------------------------\n",
      "In general , steroid therapy is not recommended in the clinical treatment of SARS-CoV-2 [ 103 ] .\n",
      "ARG1, option 0: therapy\n",
      "ARG1, option 1: steroid\n",
      "ARG1, naive: therapy\n",
      "---------------------------------------------\n",
      "In fact , steroids are not recommended in COVID-19 infection outside of clinical trial because of potential increased risk of mechanical ventilation ( 10 ) .\n",
      "ARG1, option 0: steroids\n",
      "ARG1, naive: steroids\n",
      "---------------------------------------------\n",
      "Patients with PCP typically die due to refractory hypoxemia from severe respiratory failure , and corticosteroids have failed to demonstrate benefit outside of the HIV population [ 62 , 63 ] .\n",
      "ARG1, option 0: corticosteroids\n",
      "ARG1, option 1: [\n",
      "ARG1, naive: corticosteroids\n",
      "---------------------------------------------\n",
      "In addition , steroids are not effective for the treatment of lung injury or shock in adults ' SARS-CoV-2 infection [ 11 ] .\n",
      "ARG1, option 0: steroids\n",
      "ARG1, naive: steroids\n",
      "---------------------------------------------\n",
      "Corticosteroids in the treatment of SARS-CoV-2 pneumonia are not usually recommended ; they may delay virus clearance from the body [ 1 , 3 ] .\n",
      "ARG1, option 0: Corticosteroids\n",
      "ARG1, option 1: they\n",
      "ARG1, option 2: [\n",
      "ARG1, naive: Corticosteroids\n",
      "---------------------------------------------\n",
      "At present , there is no effective therapeutic agent against CVB3 , and only ribavirin is available for CVB3 infection despite its weak antiviral activity [ 93 ] .\n",
      "ARG1, option 0: ribavirin\n",
      "ARG1, naive: ribavirin\n",
      "---------------------------------------------\n",
      "Drugs currently licensed for the treatment of systemic CMV infections have limited therapeutic effectiveness due to dose-limiting toxicities , and prolonged therapy often results in resistance ( Biron , 2006 ) .\n",
      "ARG1, option 0: Drugs\n",
      "ARG1, option 1: therapy\n",
      "ARG1, naive: Drugs\n",
      "---------------------------------------------\n",
      "Most of the TCM agents are mildly effective and slow-acting , and therefore , should not be used as the only treatment modality due to the rapid progression of disease .\n",
      "ARG1, option 0: agents\n",
      "ARG1, option 1: treatment\n",
      "ARG1, naive: agents\n",
      "---------------------------------------------\n",
      "In addition , antivirals such as NA inhibitors and M2 blockers have limited efficacy in severe cases of influenza infection if not administered within 48 hours from symptoms onset and may select for resistance .\n",
      "ARG1, option 0: ,\n",
      "ARG1, option 1: antivirals\n",
      "ARG1, option 2: blockers\n",
      "ARG1, option 3: efficacy\n",
      "ARG1, naive: blockers\n",
      "---------------------------------------------\n",
      "The efficacy rate is also low in children , and the treatment is normally ineffective in secondary ITP with underlying diseases , such as systemic lupus erythematosus [ 25 ] .\n",
      "ARG1, option 0: treatment\n",
      "ARG1, option 1: [\n",
      "ARG1, naive: treatment\n",
      "---------------------------------------------\n",
      "However , the use of corticosteroids in the treatment of COVID-19 can cause host immune suppression and delay viral clearance .\n",
      "ARG1, option 0: corticosteroids\n",
      "ARG1, naive: corticosteroids\n",
      "---------------------------------------------\n",
      "However , the clinical use of interferon to treat dengue is not common , possibly due to IFN-α side effects associated with its systemic activity .\n",
      "ARG1, option 0: interferon\n",
      "ARG1, option 1: of\n",
      "ARG1, option 2: use\n",
      "ARG1, naive: interferon\n",
      "---------------------------------------------\n",
      "Unfortunately , a consistent benefit has not been observed in all clinical trials and ribavirin is currently not considered to be a drug of choice for influenza .\n",
      "ARG1, option 0: ribavirin\n",
      "ARG1, naive: ribavirin\n",
      "---------------------------------------------\n",
      "For HSV encephalitis , the efficacy of aciclovir monotherapy may be hampered by limited penetration of the drug in the central nervous system .\n",
      "ARG1, option 0: aciclovir\n",
      "ARG1, option 1: monotherapy\n",
      "ARG1, option 2: drug\n",
      "ARG1, option 3: of\n",
      "ARG1, naive: aciclovir\n",
      "---------------------------------------------\n",
      "Although , in a substantial cooperative study , high-dose acyclovir has had certain efficacy for preventing CMV disease ( 101 ) , its utility is limited in a setting where more potent anti-CMV agents ( e.g. , ganciclovir ) are used ( 102 ) .\n",
      "ARG1, option 0: acyclovir\n",
      "ARG1, option 1: agents\n",
      "ARG1, option 2: ganciclovir\n",
      "ARG1, naive: acyclovir\n",
      "---------------------------------------------\n",
      "While FAM is standard therapy for established BOS , recent data argue strongly against using azithromycin as prophylaxis against BOS due to decreased survival due to a higher rate of hematologic relapse [ 83 ] .\n",
      "ARG1, option 0: azithromycin\n",
      "ARG1, option 1: FAM\n",
      "ARG1, option 2: therapy\n",
      "ARG1, option 3: [\n",
      "ARG1, naive: azithromycin\n",
      "---------------------------------------------\n",
      "Although a number of antivirals are available for influenza infections ( e.g. , M2 and neuraminidase inhibitors ) , these drugs have only modest efficacy and their use is further limited by resistance that is either preexisting or is rapidly induced during treatment ( 192 ) .\n",
      "ARG1, option 0: drugs\n",
      "ARG1, option 1: inhibitors\n",
      "ARG1, option 2: of\n",
      "ARG1, option 3: treatment\n",
      "ARG1, naive: drugs\n",
      "---------------------------------------------\n",
      "Although immunosuppression is a mainstay of treatment for autoimmunity , IPEX treatment is frequently limited by insufficient response to therapy or side effects of immune suppression .\n",
      "ARG1, option 0: treatment\n",
      "ARG1, option 1: therapy\n",
      "ARG1, naive: treatment\n",
      "---------------------------------------------\n",
      "There has traditionally been no specific treatment for CCHF , though ribavirin has demonstrated both in vitro and in vivo activity [ 40 ] .\n",
      "ARG1, option 0: ribavirin\n",
      "ARG1, naive: ribavirin\n",
      "---------------------------------------------\n",
      "Although biologic therapies provide a valuable treatment option in UC , they are not clinically effective in all patients and are also associated with secondary loss of response .\n",
      "ARG1, option 0: therapies\n",
      "ARG1, option 1: biologic\n",
      "ARG1, option 2: they\n",
      "ARG1, option 3: treatment\n",
      "ARG1, naive: biologic\n",
      "---------------------------------------------\n",
      "Currently , there is no vaccine to prevent RSV , and the only accepted therapy ( ribavirin ) is seldom used due to its teratogenicity , its limited antiviral effect , and its controversial clinical effectiveness ( 41 , 76 , 85 ) .\n",
      "ARG1, option 0: ribavirin\n",
      "ARG1, option 1: therapy\n",
      "ARG1, naive: ribavirin\n",
      "---------------------------------------------\n",
      "Treatment with M2 inhibitors , such as amantadine , is generally not used in transplant recipients because of widespread resistance , the association with prolonged shedding of virus and increased adverse effects [ 6 , 30 ] .\n",
      "ARG1, option 0: inhibitors\n",
      "ARG1, option 1: Treatment\n",
      "ARG1, option 2: amantadine\n",
      "ARG1, naive: inhibitors\n",
      "---------------------------------------------\n",
      "Nevertheless , there is currently no definitive benefit proven for antiviral treatment outside of these specific circumstances , as it comes at a cost and may be associated with side effects ; for example , zanamivir can induce bronchospasms in patients with chronic respiratory disease and asthma .\n",
      "ARG1, option 0: zanamivir\n",
      "ARG1, option 1: antiviral\n",
      "ARG1, option 2: treatment\n",
      "ARG1, naive: zanamivir\n",
      "---------------------------------------------\n",
      "Specific antiviral therapies for the common cold have shown some promise , but their efficacy is limited by the myriad of potential viral causes of the common cold and also by side effects [ 27 ] .\n",
      "ARG1, option 0: antiviral\n",
      "ARG1, option 1: therapies\n",
      "ARG1, option 2: their\n",
      "ARG1, option 3: [\n",
      "ARG1, naive: therapies\n",
      "---------------------------------------------\n",
      "As a result , corticosteroids may not be a standard choice in patients with influenza A infection [ 113 , 114 ] .\n",
      "ARG1, option 0: corticosteroids\n",
      "ARG1, option 1: [\n",
      "ARG1, naive: corticosteroids\n",
      "---------------------------------------------\n",
      "However , the possibility of IFN-α-induced flares that precipitate liver failure means that IFN-α is contraindicated in advanced cirrhosis .\n",
      "ARG1, option 0: is\n",
      "ARG1, option 1: IFN-α\n",
      "ARG1, option 2: that\n",
      "ARG1, option 3: cirrhosis\n",
      "ARG1, naive: IFN-α\n",
      "---------------------------------------------\n",
      "Although the combination therapy is effective for hepatitis C , ribavirin can induce hemolytic anemia that may necessitate dose reduction or even discontinuation of the therapy [ 20 ] .\n",
      "ARG1, option 0: ribavirin\n",
      "ARG1, option 1: therapy\n",
      "ARG1, option 2: [\n",
      "ARG1, option 3: therapy\n",
      "ARG1, naive: ribavirin\n",
      "---------------------------------------------\n",
      "Yet with an unfavorable toxicity profile , cidofovir remains an imperfect treatment , with deaths reported secondary to disseminated adenoviral infection in treated patients [ 67 ] .\n",
      "ARG1, option 0: cidofovir\n",
      "ARG1, option 1: treatment\n",
      "ARG1, naive: cidofovir\n",
      "---------------------------------------------\n",
      "Even highly active antibacterial agents have limited efficacy in advanced bacterial pneumonia [ 33 ] .\n",
      "ARG1, option 0: agents\n",
      "ARG1, option 1: [\n",
      "ARG1, naive: agents\n",
      "---------------------------------------------\n",
      "Furthermore , steroids and immunosuppressive drugs are not universally effective , with partial or no response in many cases .\n",
      "ARG1, option 0: steroids\n",
      "ARG1, option 1: drugs\n",
      "ARG1, naive: steroids\n",
      "---------------------------------------------\n",
      "Treatment of LT recipients who developed CRE or CRKP infections is quite complicated , often requires combination antimicrobial therapy , and can also be associated with drug toxicity .\n",
      "ARG1, option 0: drug\n",
      "ARG1, option 1: therapy\n",
      "ARG1, option 2: Treatment\n",
      "ARG1, option 3: antimicrobial\n",
      "ARG1, naive: drug\n",
      "---------------------------------------------\n",
      "Although treatment with IVIG is an effective therapy for KD , not all children respond to it , and its mechanisms of action remain not fully established [ 4 ] .\n",
      "ARG1, option 0: IVIG\n",
      "ARG1, option 1: treatment\n",
      "ARG1, option 2: therapy\n",
      "ARG1, option 3: [\n",
      "ARG1, naive: IVIG\n",
      "---------------------------------------------\n",
      "However , for recalcitrant AD , continuous use of systemic immunosuppressive agents is limited by severe adverse effects , especially for children .\n",
      "ARG1, option 0: agents\n",
      "ARG1, option 1: is\n",
      "ARG1, option 2: of\n",
      "ARG1, naive: agents\n",
      "---------------------------------------------\n",
      "PAMI treatment is challenging as IL-1 inhibitors can alleviate the inflammatory symptoms but not hematologic features .\n",
      "ARG1, option 0: inhibitors\n",
      "ARG1, option 1: treatment\n",
      "ARG1, option 2: is\n",
      "ARG1, naive: inhibitors\n",
      "---------------------------------------------\n",
      "Treatment of MTB after SOT poses special challenges because of potential interactions between anti-MTB drugs and immunosuppressive medications and potential hepatotoxicity .\n",
      "ARG1, option 0: drugs\n",
      "ARG1, option 1: Treatment\n",
      "ARG1, naive: drugs\n",
      "---------------------------------------------\n",
      "The use of corticosteroids for the treatment of COVID-19 is controversial due to their negative impact on anti-viral immune responses [ 109 ] .\n",
      "ARG1, option 0: corticosteroids\n",
      "ARG1, option 1: use\n",
      "ARG1, option 2: is\n",
      "ARG1, option 3: [\n",
      "ARG1, naive: corticosteroids\n",
      "---------------------------------------------\n",
      "Switching to oral corticosteroids [ 16 ] is not recommended during SARS-CoV-2 infection and may worsen the disease in dysimmune motor neuropathies [ 17 ] .\n",
      "ARG1, option 0: corticosteroids\n",
      "ARG1, naive: corticosteroids\n",
      "---------------------------------------------\n",
      "However , HAART is associated with potentially deleterious sequelae , making timing of the therapy very controversial in patients with active sepsis ( 19 ) .\n",
      "ARG1, option 0: HAART\n",
      "ARG1, option 1: therapy\n",
      "ARG1, option 2: is\n",
      "ARG1, naive: HAART\n",
      "---------------------------------------------\n",
      "Alternative antiviral therapies are needed due to troubles in maintaining adequate stocks of plasma and the absence of effective interventions for treated patients that progress to a neurologic-hemorrhagic phase [ 3 , 4 ] .\n",
      "ARG1, option 0: antiviral\n",
      "ARG1, option 1: therapies\n",
      "ARG1, option 2: [\n",
      "ARG1, naive: therapies\n",
      "---------------------------------------------\n",
      "Although lopinavir/ritonavir have been adopted for the treatment of SARS , as they lack elements of specificity towards CoV protease , their efficacy is not expected to be sufficient to control viral infection .\n",
      "ARG1, option 0: lopinavir/ritonavir\n",
      "ARG1, option 1: Although\n",
      "ARG1, option 2: efficacy\n",
      "ARG1, naive: Although\n",
      "---------------------------------------------\n",
      "Most patients afflicted with HIV-associated AIDs including inflammatory musculoskeletal involvement respond well to conventional therapy such as NSAIDs , narcotic drugs , and DMARDs , but refractory cases may need the use of biological agents , especially TNF inhibitors [ 60 ] .\n",
      "ARG1, option 0: agents\n",
      "ARG1, option 1: inhibitors\n",
      "ARG1, option 2: therapy\n",
      "ARG1, option 3: drugs\n",
      "ARG1, naive: inhibitors\n",
      "---------------------------------------------\n",
      "Although ribavirin has been approved for the treatment of HRSV infection , its clinical use has been limited by its side effects combined to its minor clinical efficacy .\n",
      "ARG1, option 0: ribavirin\n",
      "ARG1, option 1: its\n",
      "ARG1, naive: ribavirin\n",
      "---------------------------------------------\n",
      "Although the main treatment option for CCHF is supportive therapy , ribavirin inhibits viral replication in vivo and has been shown to reduce death in murine models .\n",
      "ARG1, option 0: ribavirin\n",
      "ARG1, option 1: therapy\n",
      "ARG1, option 2: treatment\n",
      "ARG1, naive: ribavirin\n",
      "---------------------------------------------\n",
      "The benefit or otherwise of antiviral drugs or glucocorticoids has not been established for treatment of SARS [ 20 ] .\n",
      "ARG1, option 0: antiviral\n",
      "ARG1, option 1: drugs\n",
      "ARG1, option 2: glucocorticoids\n",
      "ARG1, naive: drugs\n",
      "---------------------------------------------\n",
      "However , for its undesiderable side effect like anemia , the use of ribavirin may not be convenient in patients who are already very compromised such as those with COVID-19 [ 13 ] [ 14 ] [ 15 ] .\n",
      "ARG1, option 0: ribavirin\n",
      "ARG1, naive: ribavirin\n",
      "---------------------------------------------\n",
      "A significant proportion of HIV-associated AIDs including inflammatory musculoskeletal involvement respond well to conventional therapy such as NSAIDs , narcotic drugs and DMARDs , but refractory cases may need the use of biological agents , especially TNF inhibitors [ 133 ] .\n",
      "ARG1, option 0: agents\n",
      "ARG1, option 1: therapy\n",
      "ARG1, option 2: inhibitors\n",
      "ARG1, option 3: drugs\n",
      "ARG1, naive: inhibitors\n",
      "---------------------------------------------\n",
      "While VZIG is clearly efficient in post-exposure prophylaxis , it is not beneficial for therapy of already established VZV infection [ 54 ] .\n",
      "ARG1, option 0: VZIG\n",
      "ARG1, option 1: it\n",
      "ARG1, option 2: [\n",
      "ARG1, option 3: therapy\n",
      "ARG1, naive: VZIG\n",
      "---------------------------------------------\n",
      "Unfortunately , efficacy for this class of drugs is limited due to the rapid development of antiviral resistance and the lack of effect against FLU-B [ 3 , 20 ] .\n",
      "ARG1, option 0: drugs\n",
      "ARG1, option 1: antiviral\n",
      "ARG1, option 2: efficacy\n",
      "ARG1, option 3: [\n",
      "ARG1, naive: drugs\n",
      "---------------------------------------------\n",
      "Although often used , systemic corticosteroids may increase the risk of mortality and morbidity ( e.g. secondary infections ) in severe influenza and other viral infections , especially if there is delay or lack of effective antiviral therapy .\n",
      "ARG1, option 0: corticosteroids\n",
      "ARG1, option 1: therapy\n",
      "ARG1, option 2: antiviral\n",
      "ARG1, naive: corticosteroids\n",
      "---------------------------------------------\n"
     ]
    }
   ],
   "source": [
    "print(\"QUERY:\", query)\n",
    "print(\"===========================================================\")\n",
    "print(\"===========================================================\")\n",
    "\n",
    "for sent_ind,j_naive,orig_sent,tok2orig in zip(sorted(sent2captures.keys()),best_path_naive,orig_sents,mappings_to_orig):    \n",
    "    print(orig_sent)\n",
    "    for k, (j, freq) in enumerate(Counter(sent2captures[sent_ind]).most_common(4)):\n",
    "        if j in tok2orig:\n",
    "              \n",
    "            print(\"ARG{}, option {}: {}\".format(ARG_IND+1,k, orig_sent.split(\" \")[tok2orig[j]]))\n",
    "        #print(\"ARG1 NAIVE: {}\".format(orig_sent.split(\" \")[tok2orig[j_naive]]))\n",
    "    if j_naive in tok2orig:\n",
    "         print(\"ARG{}, naive: {}\".format(ARG_IND+1,orig_sent.split(\" \")[tok2orig[j_naive]]))\n",
    "    \n",
    "    else:\n",
    "        print(\"none\")\n",
    "    \n",
    "    print(\"---------------------------------------------\")"
   ]
  },
  {
   "cell_type": "code",
   "execution_count": null,
   "metadata": {},
   "outputs": [],
   "source": []
  },
  {
   "cell_type": "code",
   "execution_count": null,
   "metadata": {},
   "outputs": [],
   "source": []
  }
 ],
 "metadata": {
  "kernelspec": {
   "display_name": "Python 3",
   "language": "python",
   "name": "python3"
  },
  "language_info": {
   "codemirror_mode": {
    "name": "ipython",
    "version": 3
   },
   "file_extension": ".py",
   "mimetype": "text/x-python",
   "name": "python",
   "nbconvert_exporter": "python",
   "pygments_lexer": "ipython3",
   "version": "3.7.5"
  }
 },
 "nbformat": 4,
 "nbformat_minor": 4
}
