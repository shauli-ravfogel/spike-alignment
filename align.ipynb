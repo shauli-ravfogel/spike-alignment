{
 "cells": [
  {
   "cell_type": "code",
   "execution_count": 230,
   "metadata": {},
   "outputs": [
    {
     "name": "stdout",
     "output_type": "stream",
     "text": [
      "The autoreload extension is already loaded. To reload it, use:\n",
      "  %reload_ext autoreload\n"
     ]
    }
   ],
   "source": [
    "%load_ext autoreload\n",
    "%autoreload 2\n",
    "import bert\n",
    "import numpy as np\n",
    "from sklearn.metrics.pairwise import cosine_similarity\n",
    "import matplotlib.pyplot as plt\n",
    "import spike_queries\n",
    "from termcolor import colored"
   ]
  },
  {
   "cell_type": "code",
   "execution_count": 235,
   "metadata": {},
   "outputs": [],
   "source": [
    "def load_results(fname):\n",
    "    \n",
    "    with open(fname, \"r\", encoding = \"utf-8\") as f:\n",
    "        sents = f.readlines()\n",
    "    \n",
    "    sents = [s.strip().split(\"\\t\")[-1] for s in sents]\n",
    "    original, results = sents[0], sents[1:]\n",
    "    return original, results\n",
    "\n",
    "\n",
    "def get_spike_results_arguments_representations(model, spike_results):\n",
    "    \n",
    "    sents = spike_results[\"sentence_text\"].tolist()\n",
    "    arg1_idx_start = spike_results[\"arg1_first_index\"].to_numpy().astype(int)\n",
    "    arg2_idx_start = spike_results[\"arg2_first_index\"].to_numpy().astype(int)\n",
    "    arg1_idx_end = spike_results[\"arg1_last_index\"].to_numpy().astype(int)\n",
    "    arg2_idx_end = spike_results[\"arg2_last_index\"].to_numpy().astype(int)\n",
    "    \n",
    "    arg1_rep = []\n",
    "    arg2_rep = []\n",
    "    \n",
    "    for s, arg1_start, arg2_start, arg1_end, arg2_end in zip(sents, arg1_idx_start, arg2_idx_start, arg1_idx_end, arg2_idx_end):\n",
    "        H, _, _, orig2tok = model.encode(s, layers = [-1])\n",
    "        h1, h2 = H[orig2tok[arg1_start]:orig2tok[arg1_end] + 1], H[orig2tok[arg2_start]:orig2tok[arg2_end] + 1]\n",
    "        \n",
    "        h1 = np.mean(h1, axis = 0)\n",
    "        h2 = np.mean(h2, axis = 0)\n",
    "        \n",
    "        arg1_rep.append(h1)\n",
    "        arg2_rep.append(h2)\n",
    "        \n",
    "    arg1_mean = np.mean(arg1_rep, axis = 0)\n",
    "    arg2_mean = np.mean(arg2_rep, axis = 0)\n",
    "    \n",
    "    return arg1_mean, arg2_mean\n",
    "    \n",
    "\n",
    "def get_sentence_representation(sent, model):\n",
    "    \n",
    "     H, _, tok_to_orig_map, orig2tok = model.encode(s, layers = [-1])\n",
    "     return H\n",
    "\n",
    "def print_sentence_nicely(sentence: str, ind1, ind2):\n",
    "    \n",
    "    arg1_sign = \"**\"\n",
    "    arg2_sign = \"++\"\n",
    "    \n",
    "    if not ind2 > ind1: \n",
    "        nd1, ind2 = ind2, ind1\n",
    "        arg1_sign, arg2_sign = arg2_sign, arg1_sign\n",
    "        \n",
    "    splitted = sentence.split(\" \")\n",
    "    before_arg1 = \" \".join(splitted[:ind1])\n",
    "    arg1 = splitted[ind1]\n",
    "    arg2 = splitted[ind2]\n",
    "    between = \" \".join(splitted[ind1 + 1: ind2])\n",
    "    suffix = \" \".join(splitted[ind2+1:])\n",
    "    \n",
    "    return before_arg1 +  \" \" + arg1_sign + colored(arg1, \"red\") + arg1_sign + \" \" + between + \" \" + arg2_sign + colored(arg2, \"blue\") + arg2_sign + \" \" + suffix\n"
   ]
  },
  {
   "cell_type": "code",
   "execution_count": 173,
   "metadata": {},
   "outputs": [
    {
     "name": "stderr",
     "output_type": "stream",
     "text": [
      "loading configuration file https://s3.amazonaws.com/models.huggingface.co/bert/allenai/scibert_scivocab_uncased/config.json from cache at /home/shauli/.cache/torch/transformers/199e28e62d2210c23d63625bd9eecc20cf72a156b29e2a540d4933af4f50bda1.4b6b9f5d813f7395e7ea533039e02deb1723d8fd9d8ba655391a01a69ad6223d\n",
      "Model config BertConfig {\n",
      "  \"attention_probs_dropout_prob\": 0.1,\n",
      "  \"hidden_act\": \"gelu\",\n",
      "  \"hidden_dropout_prob\": 0.1,\n",
      "  \"hidden_size\": 768,\n",
      "  \"initializer_range\": 0.02,\n",
      "  \"intermediate_size\": 3072,\n",
      "  \"layer_norm_eps\": 1e-12,\n",
      "  \"max_position_embeddings\": 512,\n",
      "  \"model_type\": \"bert\",\n",
      "  \"num_attention_heads\": 12,\n",
      "  \"num_hidden_layers\": 12,\n",
      "  \"pad_token_id\": 0,\n",
      "  \"type_vocab_size\": 2,\n",
      "  \"vocab_size\": 31090\n",
      "}\n",
      "\n",
      "Model name 'allenai/scibert_scivocab_uncased' not found in model shortcut name list (bert-base-uncased, bert-large-uncased, bert-base-cased, bert-large-cased, bert-base-multilingual-uncased, bert-base-multilingual-cased, bert-base-chinese, bert-base-german-cased, bert-large-uncased-whole-word-masking, bert-large-cased-whole-word-masking, bert-large-uncased-whole-word-masking-finetuned-squad, bert-large-cased-whole-word-masking-finetuned-squad, bert-base-cased-finetuned-mrpc, bert-base-german-dbmdz-cased, bert-base-german-dbmdz-uncased, bert-base-finnish-cased-v1, bert-base-finnish-uncased-v1, bert-base-dutch-cased). Assuming 'allenai/scibert_scivocab_uncased' is a path, a model identifier, or url to a directory containing tokenizer files.\n",
      "loading file https://s3.amazonaws.com/models.huggingface.co/bert/allenai/scibert_scivocab_uncased/vocab.txt from cache at /home/shauli/.cache/torch/transformers/e3debd8fbdf40874753724814ee0520f612b577b26c8755bca485103b47cd3bc.60287becc5ab96d85a4bf377eb90feaf3b9c80d3b23e84311dccd3588f56d4fb\n",
      "loading file https://s3.amazonaws.com/models.huggingface.co/bert/allenai/scibert_scivocab_uncased/added_tokens.json from cache at None\n",
      "loading file https://s3.amazonaws.com/models.huggingface.co/bert/allenai/scibert_scivocab_uncased/special_tokens_map.json from cache at None\n",
      "loading file https://s3.amazonaws.com/models.huggingface.co/bert/allenai/scibert_scivocab_uncased/tokenizer_config.json from cache at None\n",
      "loading configuration file https://s3.amazonaws.com/models.huggingface.co/bert/allenai/scibert_scivocab_uncased/config.json from cache at /home/shauli/.cache/torch/transformers/199e28e62d2210c23d63625bd9eecc20cf72a156b29e2a540d4933af4f50bda1.4b6b9f5d813f7395e7ea533039e02deb1723d8fd9d8ba655391a01a69ad6223d\n",
      "Model config BertConfig {\n",
      "  \"attention_probs_dropout_prob\": 0.1,\n",
      "  \"hidden_act\": \"gelu\",\n",
      "  \"hidden_dropout_prob\": 0.1,\n",
      "  \"hidden_size\": 768,\n",
      "  \"initializer_range\": 0.02,\n",
      "  \"intermediate_size\": 3072,\n",
      "  \"layer_norm_eps\": 1e-12,\n",
      "  \"max_position_embeddings\": 512,\n",
      "  \"model_type\": \"bert\",\n",
      "  \"num_attention_heads\": 12,\n",
      "  \"num_hidden_layers\": 12,\n",
      "  \"pad_token_id\": 0,\n",
      "  \"type_vocab_size\": 2,\n",
      "  \"vocab_size\": 31090\n",
      "}\n",
      "\n",
      "loading weights file https://cdn.huggingface.co/allenai/scibert_scivocab_uncased/pytorch_model.bin from cache at /home/shauli/.cache/torch/transformers/54e18c298451d3195ba8359e7a3fa2bc04c70c730c5b6744928278e67940eacb.7587182ea55c40bf7fd0961c1176c31fa22558da2bf20c199874fa5a8ecb4613\n"
     ]
    }
   ],
   "source": [
    "model = bert.BertEncoder(\"cpu\")"
   ]
  },
  {
   "cell_type": "code",
   "execution_count": 225,
   "metadata": {},
   "outputs": [],
   "source": [
    "query, results1 = load_results(\"results1.txt\")"
   ]
  },
  {
   "cell_type": "code",
   "execution_count": 226,
   "metadata": {},
   "outputs": [],
   "source": [
    "spike_results = spike_queries.perform_query(query, dataset_name = \"covid19\", num_results = 25, query_type = \"syntactic\")\n",
    "spike_results = spike_results[spike_results['sentence_text'].notnull()]"
   ]
  },
  {
   "cell_type": "code",
   "execution_count": 227,
   "metadata": {},
   "outputs": [],
   "source": [
    "arg1_rep, arg2_rep = get_spike_results_arguments_representations(model, spike_results)"
   ]
  },
  {
   "cell_type": "code",
   "execution_count": 236,
   "metadata": {},
   "outputs": [
    {
     "name": "stdout",
     "output_type": "stream",
     "text": [
      "In humans , **\u001b[31mJEV\u001b[0m** infection can cause Japanese encephalitis ( JE ) with ++\u001b[34msevere\u001b[0m++ central nervous system disorders .\n",
      "Hepatotropic **\u001b[31mvirus\u001b[0m** , like MHV-3 infection in mice , can induce exaggerated ++\u001b[34minflammation\u001b[0m++ in the liver and cause life-threatening viral FH .\n",
      "Human metapneumovirus ( hMPV ) **\u001b[31minfection\u001b[0m** causes respiratory tract ++\u001b[34mdisease\u001b[0m++ similar to that observed during human respiratory syncytial virus infection ( hRSV ) .\n",
      "In humans , CHIKV **\u001b[31minfections\u001b[0m** cause a debilitating ++\u001b[34mdisease\u001b[0m++ with acute febrile illness and long-term polyarthralgia .\n",
      " **\u001b[31mFIV\u001b[0m** infection causes ++\u001b[34mprogressive\u001b[0m++ immunosuppression that results in the development of the acquired immunodeficiency syndrome ( AIDS ) in cats , which , similar to human HIV infection , increases susceptibility to secondary and opportunistic infections .\n",
      " **\u001b[31mHuman\u001b[0m** infection of H7N9 avian infl uenza virus directly induces ++\u001b[34mpneumonia\u001b[0m++ , with radiological signs of pneumonia early after onset .\n",
      " **\u001b[31mMCMV\u001b[0m** causes asymptomatic infection in adult immunocompetent mice , but experimental inoculation of neonates has caused lethal ++\u001b[34mdisease\u001b[0m++ due to multisystemic necrosis and inflammation .\n",
      " **\u001b[31mBRV\u001b[0m** is a lytic infection and destruction of infected mucosal epithelial cells is an important component of ++\u001b[34mdisease\u001b[0m++ pathogenesis .\n",
      "As discussed above , coxsackievirus B3 ( CVB3 ) **\u001b[31minfection\u001b[0m**  ++\u001b[34mcauses\u001b[0m++ myocarditis in human beings as well as in male BALB/c mice .\n",
      "In chickens , Infectious **\u001b[31mBronchitis\u001b[0m** ( IB ) causes severe ++\u001b[34minflammatory\u001b[0m++ lesions in the respiratory tract .\n",
      " **\u001b[31mPEDV\u001b[0m** infects the epithelium of the small intestine , an environment rich in proteases , and causes atrophy of the villi resulting in ++\u001b[34mdiarrhea\u001b[0m++ and dehydration .\n",
      "In humans , VEEV **\u001b[31minfection\u001b[0m** causes a ++\u001b[34msudden\u001b[0m++ onset of malaise , fever , chills , headache , and sore throat .\n",
      "However , SARS-CoV **\u001b[31minfection\u001b[0m** results in severe and even fatal ++\u001b[34mlung\u001b[0m++ disease in humans .\n",
      " **\u001b[31mFIV\u001b[0m** is an important viral pathogen worldwide in the domestic cat ( Felis catus ) , causes a slow progressive degeneration of ++\u001b[34mimmune\u001b[0m++ functions that eventually leads to a disease .\n",
      "In humans , coronavirus **\u001b[31minfection\u001b[0m** results in ++\u001b[34mrespiratory\u001b[0m++ tract complications with varying degree of severity and has been associated with gastroenteritis .\n",
      "In humans , the **\u001b[31mvirus\u001b[0m** causes a lower respiratory tract ++\u001b[34mdisease\u001b[0m++ and may progress to ARDS , multiorgan failure , and death in severe cases .\n",
      "In pythons , **\u001b[31mnidovirus\u001b[0m** infection induces an inflammation of the upper respiratory and alimentary tract which can develop into a severe and often fatal proliferative ++\u001b[34mpneumonia\u001b[0m++ .\n",
      " **\u001b[31mInfluenza\u001b[0m** virus infection in humans can lead to mild to severe ++\u001b[34millness\u001b[0m++ , as a result of both viral replication and the host immune response .\n",
      "In hamsters , **\u001b[31mviral\u001b[0m**  ++\u001b[34mreplication\u001b[0m++ occurs in epithelial cells of the respiratory tract and causes interstitial pneumonia , pulmonary consolidation , and diffuse alveolar damage .\n",
      "Although diarrhea is recognized as the main clinical feature of ++\u001b[31mBCV\u001b[0m++  **\u001b[34mBCV\u001b[0m** infections , BCV also causes respiratory tract infections in calves .\n",
      " **\u001b[31mPRRSV\u001b[0m** increases the susceptibility of the host to a wide range of viral and bacterial respiratory pathogens , resulting in increased severity of ++\u001b[34mclinical\u001b[0m++ signs and lung lesions .\n"
     ]
    }
   ],
   "source": [
    "for s in results1:\n",
    "    H, tokenized_text, tok_to_orig_map, orig2tok = model.encode(s, layers = [-1])\n",
    "    sims_arg1 = cosine_similarity([arg1_rep], H[1:-2])[0]\n",
    "    sims_arg2 = cosine_similarity([arg2_rep], H[1:-2])[0]\n",
    "    arg1_ind = np.argmax(sims_arg1) + 1\n",
    "    arg2_ind = np.argmax(sims_arg2) + 1\n",
    "    print(print_sentence_nicely(s, tok_to_orig_map[arg1_ind], tok_to_orig_map[arg2_ind]))\n"
   ]
  },
  {
   "cell_type": "code",
   "execution_count": 150,
   "metadata": {},
   "outputs": [
    {
     "data": {
      "text/plain": [
       "'[CLS] as discussed above , coxsackievirus b3 ( cvb3 ) infection causes myocarditis in human beings as well as in male balb / c mice . [SEP]'"
      ]
     },
     "execution_count": 150,
     "metadata": {},
     "output_type": "execute_result"
    }
   ],
   "source": [
    "\" \".join(tokenized_text).replace(\" ##\", \"\").replace(\"## \", \"\")"
   ]
  },
  {
   "cell_type": "code",
   "execution_count": 151,
   "metadata": {},
   "outputs": [
    {
     "data": {
      "text/plain": [
       "'As discussed above , coxsackievirus B3 ( CVB3 ) infection causes myocarditis in human beings as well as in male BALB/c mice .'"
      ]
     },
     "execution_count": 151,
     "metadata": {},
     "output_type": "execute_result"
    }
   ],
   "source": [
    "results1[8]"
   ]
  },
  {
   "cell_type": "code",
   "execution_count": 153,
   "metadata": {},
   "outputs": [
    {
     "data": {
      "text/plain": [
       "{0: 1,\n",
       " 1: 2,\n",
       " 2: 3,\n",
       " 3: 4,\n",
       " 4: 9,\n",
       " 5: 11,\n",
       " 6: 12,\n",
       " 7: 15,\n",
       " 8: 16,\n",
       " 9: 17,\n",
       " 10: 18,\n",
       " 11: 20,\n",
       " 12: 21,\n",
       " 13: 22,\n",
       " 14: 23,\n",
       " 15: 24,\n",
       " 16: 25,\n",
       " 17: 26,\n",
       " 18: 27,\n",
       " 19: 28,\n",
       " 20: 31,\n",
       " 21: 32,\n",
       " 22: 33}"
      ]
     },
     "execution_count": 153,
     "metadata": {},
     "output_type": "execute_result"
    }
   ],
   "source": [
    "orig2tok"
   ]
  },
  {
   "cell_type": "code",
   "execution_count": 165,
   "metadata": {},
   "outputs": [],
   "source": [
    "tok_to_orig_map = {}\n",
    "keys = list(sorted(orig2tok.keys()))\n",
    "for k, k2 in zip(keys, keys[1:]):\n",
    "    for k3 in range(orig2tok[k], orig2tok[k2]):\n",
    "        tok_to_orig_map[k3] = k"
   ]
  },
  {
   "cell_type": "code",
   "execution_count": 166,
   "metadata": {},
   "outputs": [
    {
     "data": {
      "text/plain": [
       "{1: 0,\n",
       " 2: 1,\n",
       " 3: 2,\n",
       " 4: 3,\n",
       " 5: 3,\n",
       " 6: 3,\n",
       " 7: 3,\n",
       " 8: 3,\n",
       " 9: 4,\n",
       " 10: 4,\n",
       " 11: 5,\n",
       " 12: 6,\n",
       " 13: 6,\n",
       " 14: 6,\n",
       " 15: 7,\n",
       " 16: 8,\n",
       " 17: 9,\n",
       " 18: 10,\n",
       " 19: 10,\n",
       " 20: 11,\n",
       " 21: 12,\n",
       " 22: 13,\n",
       " 23: 14,\n",
       " 24: 15,\n",
       " 25: 16,\n",
       " 26: 17,\n",
       " 27: 18,\n",
       " 28: 19,\n",
       " 29: 19,\n",
       " 30: 19,\n",
       " 31: 20,\n",
       " 32: 21}"
      ]
     },
     "execution_count": 166,
     "metadata": {},
     "output_type": "execute_result"
    }
   ],
   "source": [
    "tok_to_orig_map"
   ]
  },
  {
   "cell_type": "code",
   "execution_count": 229,
   "metadata": {},
   "outputs": [
    {
     "name": "stdout",
     "output_type": "stream",
     "text": [
      "\u001b[31m\"red\"\u001b[0m\n"
     ]
    }
   ],
   "source": [
    "print(\"\\x1b[31m\\\"red\\\"\\x1b[0m\")"
   ]
  },
  {
   "cell_type": "code",
   "execution_count": null,
   "metadata": {},
   "outputs": [],
   "source": []
  }
 ],
 "metadata": {
  "kernelspec": {
   "display_name": "Python 3",
   "language": "python",
   "name": "python3"
  },
  "language_info": {
   "codemirror_mode": {
    "name": "ipython",
    "version": 3
   },
   "file_extension": ".py",
   "mimetype": "text/x-python",
   "name": "python",
   "nbconvert_exporter": "python",
   "pygments_lexer": "ipython3",
   "version": "3.7.5"
  }
 },
 "nbformat": 4,
 "nbformat_minor": 4
}
